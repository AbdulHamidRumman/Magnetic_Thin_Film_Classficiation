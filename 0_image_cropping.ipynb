{
 "cells": [
  {
   "cell_type": "code",
   "execution_count": 1,
   "metadata": {},
   "outputs": [],
   "source": [
    "import cv2 # OpenCV\n",
    "import glob"
   ]
  },
  {
   "cell_type": "code",
   "execution_count": 2,
   "metadata": {},
   "outputs": [
    {
     "data": {
      "text/plain": [
       "['images\\\\CR\\\\CR-150C-200V-GI-288.jpg',\n",
       " 'images\\\\CR\\\\CR-200C-200V-GB-279.jpg',\n",
       " 'images\\\\CR\\\\CR-250C-0V-GI-289.jpg',\n",
       " 'images\\\\CR\\\\CR-250C-200V-GB-206.jpg',\n",
       " 'images\\\\CR\\\\CR-250C-300V-GI-344.jpg',\n",
       " 'images\\\\CRP\\\\CRP-150C-200V-GB-337.jpg',\n",
       " 'images\\\\CRP\\\\CRP-200C-200V-GB-336.jpg',\n",
       " 'images\\\\CRP\\\\CRP-250C-0V-GB-350.jpg',\n",
       " 'images\\\\CRP\\\\CRP-250C-200V-GB-321.jpg',\n",
       " 'images\\\\CRP\\\\CRP-250C-300V-363-CoCr-rat.jpg',\n",
       " 'images\\\\CRT\\\\CRT-150C-200V-GB-275a.jpg',\n",
       " 'images\\\\CRT\\\\CRT-200C-200V-GI-272.jpg',\n",
       " 'images\\\\CRT\\\\CRT-250-0V-GB-278a.jpg',\n",
       " 'images\\\\CRT\\\\CRT-250C-200V-GB-331.jpg',\n",
       " 'images\\\\CRT\\\\CRT-250C-300V-GB-341.jpg',\n",
       " 'images\\\\CRTP\\\\CRTP-150C-200V-GB-334.jpg',\n",
       " 'images\\\\CRTP\\\\CRTP-200C-200V-GB-324.jpg',\n",
       " 'images\\\\CRTP\\\\CRTP-250C-0V-GB-351.jpg',\n",
       " 'images\\\\CRTP\\\\CRTP-250C-200V-GB-328.jpg',\n",
       " 'images\\\\CRTP\\\\CRTP-250C-300V-GB-347.jpg']"
      ]
     },
     "execution_count": 2,
     "metadata": {},
     "output_type": "execute_result"
    }
   ],
   "source": [
    "paths = glob.glob(\"images/**/*.jpg\", recursive=True) # getting all the raw image paths\n",
    "paths"
   ]
  },
  {
   "cell_type": "code",
   "execution_count": 3,
   "metadata": {},
   "outputs": [
    {
     "data": {
      "text/plain": [
       "['images', 'CR\\\\CR-150C-200V-GI-288.jpg']"
      ]
     },
     "execution_count": 3,
     "metadata": {},
     "output_type": "execute_result"
    }
   ],
   "source": [
    "paths[0].split('\\\\', 1)"
   ]
  },
  {
   "cell_type": "code",
   "execution_count": 4,
   "metadata": {},
   "outputs": [],
   "source": [
    "n = 450 # height and width of cropped image\n",
    "# resizing image and saving in \"images_cropped\" folder\n",
    "for p in paths:\n",
    "    img_raw = cv2.imread(p, 0)      # reading raw image in grayscale\n",
    "    img_crop = img_raw[0:n, 0:n]    # cropiing with size 'n'\n",
    "    new_p = p.split(\"\\\\\", 1)[1]     # getting image subfolder paths\n",
    "    cv2.imwrite(\"images_cropped\\\\\"+new_p, img_crop) # Writing cropped image"
   ]
  }
 ],
 "metadata": {
  "kernelspec": {
   "display_name": "base",
   "language": "python",
   "name": "python3"
  },
  "language_info": {
   "codemirror_mode": {
    "name": "ipython",
    "version": 3
   },
   "file_extension": ".py",
   "mimetype": "text/x-python",
   "name": "python",
   "nbconvert_exporter": "python",
   "pygments_lexer": "ipython3",
   "version": "3.10.12"
  }
 },
 "nbformat": 4,
 "nbformat_minor": 2
}
