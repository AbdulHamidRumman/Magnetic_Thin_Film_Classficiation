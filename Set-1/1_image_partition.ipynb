{
 "cells": [
  {
   "cell_type": "code",
   "execution_count": 1,
   "metadata": {},
   "outputs": [],
   "source": [
    "import cv2\n",
    "import numpy as np\n",
    "import glob"
   ]
  },
  {
   "cell_type": "code",
   "execution_count": 2,
   "metadata": {},
   "outputs": [],
   "source": [
    "def image_partition(image: np.ndarray):\n",
    "    \"\"\" Segments one image into 9 segments \"\"\"\n",
    "    X = image.shape[0] # Image height\n",
    "    Y = image.shape[1] # Image Width\n",
    "    # Divide height and width into 3 parts\n",
    "    dX = X//3   \n",
    "    dY = Y//3\n",
    "    parts = [] # List to store image parts\n",
    "    for i in range(3):\n",
    "        for j in range(3):\n",
    "            parts.append(\n",
    "                image[i*dX:(i+1)*dX, j*dY:(j+1)*dY] # each part of an image\n",
    "            )\n",
    "    return parts"
   ]
  },
  {
   "cell_type": "code",
   "execution_count": 3,
   "metadata": {},
   "outputs": [
    {
     "data": {
      "text/plain": [
       "['images_cropped\\\\CR\\\\CR-150C-200V-GI-288.jpg',\n",
       " 'images_cropped\\\\CR\\\\CR-200C-200V-GB-279.jpg',\n",
       " 'images_cropped\\\\CR\\\\CR-250C-0V-GI-289.jpg',\n",
       " 'images_cropped\\\\CR\\\\CR-250C-200V-GB-206.jpg',\n",
       " 'images_cropped\\\\CR\\\\CR-250C-300V-GI-344.jpg',\n",
       " 'images_cropped\\\\CRP\\\\CRP-150C-200V-GB-337.jpg',\n",
       " 'images_cropped\\\\CRP\\\\CRP-200C-200V-GB-336.jpg',\n",
       " 'images_cropped\\\\CRP\\\\CRP-250C-0V-GB-350.jpg',\n",
       " 'images_cropped\\\\CRP\\\\CRP-250C-200V-GB-321.jpg',\n",
       " 'images_cropped\\\\CRP\\\\CRP-250C-300V-363-CoCr-rat.jpg',\n",
       " 'images_cropped\\\\CRT\\\\CRT-150C-200V-GB-275a.jpg',\n",
       " 'images_cropped\\\\CRT\\\\CRT-200C-200V-GI-272.jpg',\n",
       " 'images_cropped\\\\CRT\\\\CRT-250-0V-GB-278a.jpg',\n",
       " 'images_cropped\\\\CRT\\\\CRT-250C-200V-GB-331.jpg',\n",
       " 'images_cropped\\\\CRT\\\\CRT-250C-300V-GB-341.jpg',\n",
       " 'images_cropped\\\\CRTP\\\\CRTP-150C-200V-GB-334.jpg',\n",
       " 'images_cropped\\\\CRTP\\\\CRTP-200C-200V-GB-324.jpg',\n",
       " 'images_cropped\\\\CRTP\\\\CRTP-250C-0V-GB-351.jpg',\n",
       " 'images_cropped\\\\CRTP\\\\CRTP-250C-200V-GB-328.jpg',\n",
       " 'images_cropped\\\\CRTP\\\\CRTP-250C-300V-GB-347.jpg']"
      ]
     },
     "execution_count": 3,
     "metadata": {},
     "output_type": "execute_result"
    }
   ],
   "source": [
    "image_paths = glob.glob(\"images_cropped\\\\**\\\\*.jpg\", recursive=True) # getting all cropped image paths\n",
    "image_paths"
   ]
  },
  {
   "cell_type": "code",
   "execution_count": 4,
   "metadata": {},
   "outputs": [
    {
     "data": {
      "text/plain": [
       "'CR\\\\CR-150C-200V-GI-288'"
      ]
     },
     "execution_count": 4,
     "metadata": {},
     "output_type": "execute_result"
    }
   ],
   "source": [
    "# getting the image file path with subfolder without \".jpg\" extension\n",
    "image_paths[0].split(\"\\\\\", 1)[1].split(\".jpg\")[0] "
   ]
  },
  {
   "cell_type": "code",
   "execution_count": 5,
   "metadata": {},
   "outputs": [],
   "source": [
    "output_folder = \"images_parts\"\n",
    "\n",
    "for p in image_paths:\n",
    "    img = cv2.imread(p, 0)                              # Read Image\n",
    "    parts = image_partition(img)                        # Perform Partiion into 9 pieces\n",
    "    out_path = p.split(\"\\\\\", 1)[1].split(\".jpg\")[0]     # Get the file name\n",
    "    \n",
    "    # iterate thought each parts of the image\n",
    "    for j, part in enumerate(parts):\n",
    "        # write the image file with a suffix _(0-8)\n",
    "        cv2.imwrite(output_folder+\"\\\\\"+out_path+\"_\"+str(j)+\".jpg\", part) "
   ]
  },
  {
   "cell_type": "code",
   "execution_count": null,
   "metadata": {},
   "outputs": [],
   "source": []
  }
 ],
 "metadata": {
  "kernelspec": {
   "display_name": "base",
   "language": "python",
   "name": "python3"
  },
  "language_info": {
   "codemirror_mode": {
    "name": "ipython",
    "version": 3
   },
   "file_extension": ".py",
   "mimetype": "text/x-python",
   "name": "python",
   "nbconvert_exporter": "python",
   "pygments_lexer": "ipython3",
   "version": "3.10.13"
  }
 },
 "nbformat": 4,
 "nbformat_minor": 2
}
